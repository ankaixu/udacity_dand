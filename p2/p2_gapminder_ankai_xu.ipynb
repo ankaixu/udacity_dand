{
 "cells": [
  {
   "cell_type": "markdown",
   "metadata": {},
   "source": [
    "# Investigate Gapminder World Data - Udacity Data Analyst Nanodegree Project\n",
    "## Ankai Xu | February 14, 2018\n",
    "\n",
    "### Table of Contents\n",
    "<ul>\n",
    "<li><a href=\"#intro\">Introduction</a></li>\n",
    "<li><a href=\"#wrangling\">Data Wrangling</a></li>\n",
    "<li><a href=\"#eda\">Exploratory Data Analysis</a></li>\n",
    "<li><a href=\"#conclusions\">Conclusions</a></li>\n",
    "</ul>"
   ]
  },
  {
   "cell_type": "markdown",
   "metadata": {},
   "source": [
    "<a id='intro'></a>\n",
    "## Introduction\n",
    "\n",
    "This is the final project for the Introduction to Data Analysis course that is part of the Udacity Data Analyst Nanodegree program. For this project, I have chosen to explore data from <a href=https://www.gapminder.org/data/>Gapminder World</a> on indicators relating to populations around the world tracked over time. Specifically, I will be investigating the following datasets, accessed on February 11th, 2018: \n",
    "<ul>\n",
    "<li>Life expectancy (years), Version 2016 10 12</li>\n",
    "<li>Child mortality (0-5 year-olds dying per 1,000 born), Version 8</li>\n",
    "<li>Total health spending per person (US$)</li>\n",
    "</ul>\n",
    "\n",
    "Below are the questions I'm interested in answering with my data analysis in this project. \n",
    "\n",
    "<ol>\n",
    "<li>How has the average life expectancy changed over time globally and in the United States?</li>\n",
    "<li>What is the distribution of life expectancies around the world today? Which countries have the lowest and highest life expectancies today? How does the United States compare?</li>\n",
    "<li>How has the average child mortality rate changed over time globally and in the United States?</li>\n",
    "<li>What is the distribution of child mortality rates around the world today? Which countries have the lowest and highest child mortality rates today? How does the United States compare?</li>\n",
    "<li>How has the average per capita health spending changed over time globally and in the United States</li>\n",
    "<li>What is the distribution of per capita health spend around the world today? Which countries have the lowest and highest per capita health spend today? How does the United States compare?</li>\n",
    "<li>Are there observable correlations between per capita health spending, life expectancy, and child mortality?</li> \n",
    "</ol>\n"
   ]
  },
  {
   "cell_type": "code",
   "execution_count": 1,
   "metadata": {
    "collapsed": true
   },
   "outputs": [],
   "source": [
    "# import all necessary packages and set plotting defaults\n",
    "\n",
    "import pandas as pd\n",
    "import numpy as np\n",
    "import matplotlib.pyplot as plt\n",
    "%matplotlib inline\n",
    "import seaborn as sns \n",
    "sns.set_style('whitegrid')"
   ]
  },
  {
   "cell_type": "markdown",
   "metadata": {},
   "source": [
    "<a id='wrangling'></a>\n",
    "## Data Wrangling\n",
    "\n",
    "In this section, I will assess the general characteristics of the data and clean the data. All data was first downloaded from the Gapminder World website and saved as .csv files using Excel. No data manipulation was performed in Excel.\n",
    "\n",
    "### Life Expectancy Data Assessment and Cleaning"
   ]
  },
  {
   "cell_type": "code",
   "execution_count": 2,
   "metadata": {},
   "outputs": [
    {
     "data": {
      "text/html": [
       "<div>\n",
       "<style>\n",
       "    .dataframe thead tr:only-child th {\n",
       "        text-align: right;\n",
       "    }\n",
       "\n",
       "    .dataframe thead th {\n",
       "        text-align: left;\n",
       "    }\n",
       "\n",
       "    .dataframe tbody tr th {\n",
       "        vertical-align: top;\n",
       "    }\n",
       "</style>\n",
       "<table border=\"1\" class=\"dataframe\">\n",
       "  <thead>\n",
       "    <tr style=\"text-align: right;\">\n",
       "      <th></th>\n",
       "      <th>Life expectancy</th>\n",
       "      <th>1800</th>\n",
       "      <th>1801</th>\n",
       "      <th>1802</th>\n",
       "      <th>1803</th>\n",
       "      <th>1804</th>\n",
       "      <th>1805</th>\n",
       "      <th>1806</th>\n",
       "      <th>1807</th>\n",
       "      <th>1808</th>\n",
       "      <th>...</th>\n",
       "      <th>2007</th>\n",
       "      <th>2008</th>\n",
       "      <th>2009</th>\n",
       "      <th>2010</th>\n",
       "      <th>2011</th>\n",
       "      <th>2012</th>\n",
       "      <th>2013</th>\n",
       "      <th>2014</th>\n",
       "      <th>2015</th>\n",
       "      <th>2016</th>\n",
       "    </tr>\n",
       "  </thead>\n",
       "  <tbody>\n",
       "    <tr>\n",
       "      <th>0</th>\n",
       "      <td>Abkhazia</td>\n",
       "      <td>NaN</td>\n",
       "      <td>NaN</td>\n",
       "      <td>NaN</td>\n",
       "      <td>NaN</td>\n",
       "      <td>NaN</td>\n",
       "      <td>NaN</td>\n",
       "      <td>NaN</td>\n",
       "      <td>NaN</td>\n",
       "      <td>NaN</td>\n",
       "      <td>...</td>\n",
       "      <td>NaN</td>\n",
       "      <td>NaN</td>\n",
       "      <td>NaN</td>\n",
       "      <td>NaN</td>\n",
       "      <td>NaN</td>\n",
       "      <td>NaN</td>\n",
       "      <td>NaN</td>\n",
       "      <td>NaN</td>\n",
       "      <td>NaN</td>\n",
       "      <td>NaN</td>\n",
       "    </tr>\n",
       "    <tr>\n",
       "      <th>1</th>\n",
       "      <td>Afghanistan</td>\n",
       "      <td>28.21</td>\n",
       "      <td>28.20</td>\n",
       "      <td>28.19</td>\n",
       "      <td>28.18</td>\n",
       "      <td>28.17</td>\n",
       "      <td>28.16</td>\n",
       "      <td>28.15</td>\n",
       "      <td>28.14</td>\n",
       "      <td>28.13</td>\n",
       "      <td>...</td>\n",
       "      <td>52.4</td>\n",
       "      <td>52.8</td>\n",
       "      <td>53.3</td>\n",
       "      <td>53.6</td>\n",
       "      <td>54.0</td>\n",
       "      <td>54.4</td>\n",
       "      <td>54.8</td>\n",
       "      <td>54.9</td>\n",
       "      <td>53.8</td>\n",
       "      <td>52.72</td>\n",
       "    </tr>\n",
       "    <tr>\n",
       "      <th>2</th>\n",
       "      <td>Akrotiri and Dhekelia</td>\n",
       "      <td>NaN</td>\n",
       "      <td>NaN</td>\n",
       "      <td>NaN</td>\n",
       "      <td>NaN</td>\n",
       "      <td>NaN</td>\n",
       "      <td>NaN</td>\n",
       "      <td>NaN</td>\n",
       "      <td>NaN</td>\n",
       "      <td>NaN</td>\n",
       "      <td>...</td>\n",
       "      <td>NaN</td>\n",
       "      <td>NaN</td>\n",
       "      <td>NaN</td>\n",
       "      <td>NaN</td>\n",
       "      <td>NaN</td>\n",
       "      <td>NaN</td>\n",
       "      <td>NaN</td>\n",
       "      <td>NaN</td>\n",
       "      <td>NaN</td>\n",
       "      <td>NaN</td>\n",
       "    </tr>\n",
       "    <tr>\n",
       "      <th>3</th>\n",
       "      <td>Albania</td>\n",
       "      <td>35.40</td>\n",
       "      <td>35.40</td>\n",
       "      <td>35.40</td>\n",
       "      <td>35.40</td>\n",
       "      <td>35.40</td>\n",
       "      <td>35.40</td>\n",
       "      <td>35.40</td>\n",
       "      <td>35.40</td>\n",
       "      <td>35.40</td>\n",
       "      <td>...</td>\n",
       "      <td>76.6</td>\n",
       "      <td>76.8</td>\n",
       "      <td>77.0</td>\n",
       "      <td>77.2</td>\n",
       "      <td>77.4</td>\n",
       "      <td>77.5</td>\n",
       "      <td>77.7</td>\n",
       "      <td>77.9</td>\n",
       "      <td>78.0</td>\n",
       "      <td>78.10</td>\n",
       "    </tr>\n",
       "    <tr>\n",
       "      <th>4</th>\n",
       "      <td>Algeria</td>\n",
       "      <td>28.82</td>\n",
       "      <td>28.82</td>\n",
       "      <td>28.82</td>\n",
       "      <td>28.82</td>\n",
       "      <td>28.82</td>\n",
       "      <td>28.82</td>\n",
       "      <td>28.82</td>\n",
       "      <td>28.82</td>\n",
       "      <td>28.82</td>\n",
       "      <td>...</td>\n",
       "      <td>75.3</td>\n",
       "      <td>75.5</td>\n",
       "      <td>75.7</td>\n",
       "      <td>76.0</td>\n",
       "      <td>76.1</td>\n",
       "      <td>76.2</td>\n",
       "      <td>76.3</td>\n",
       "      <td>76.3</td>\n",
       "      <td>76.4</td>\n",
       "      <td>76.50</td>\n",
       "    </tr>\n",
       "  </tbody>\n",
       "</table>\n",
       "<p>5 rows × 218 columns</p>\n",
       "</div>"
      ],
      "text/plain": [
       "         Life expectancy   1800   1801   1802   1803   1804   1805   1806  \\\n",
       "0               Abkhazia    NaN    NaN    NaN    NaN    NaN    NaN    NaN   \n",
       "1            Afghanistan  28.21  28.20  28.19  28.18  28.17  28.16  28.15   \n",
       "2  Akrotiri and Dhekelia    NaN    NaN    NaN    NaN    NaN    NaN    NaN   \n",
       "3                Albania  35.40  35.40  35.40  35.40  35.40  35.40  35.40   \n",
       "4                Algeria  28.82  28.82  28.82  28.82  28.82  28.82  28.82   \n",
       "\n",
       "    1807   1808  ...    2007  2008  2009  2010  2011  2012  2013  2014  2015  \\\n",
       "0    NaN    NaN  ...     NaN   NaN   NaN   NaN   NaN   NaN   NaN   NaN   NaN   \n",
       "1  28.14  28.13  ...    52.4  52.8  53.3  53.6  54.0  54.4  54.8  54.9  53.8   \n",
       "2    NaN    NaN  ...     NaN   NaN   NaN   NaN   NaN   NaN   NaN   NaN   NaN   \n",
       "3  35.40  35.40  ...    76.6  76.8  77.0  77.2  77.4  77.5  77.7  77.9  78.0   \n",
       "4  28.82  28.82  ...    75.3  75.5  75.7  76.0  76.1  76.2  76.3  76.3  76.4   \n",
       "\n",
       "    2016  \n",
       "0    NaN  \n",
       "1  52.72  \n",
       "2    NaN  \n",
       "3  78.10  \n",
       "4  76.50  \n",
       "\n",
       "[5 rows x 218 columns]"
      ]
     },
     "execution_count": 2,
     "metadata": {},
     "output_type": "execute_result"
    }
   ],
   "source": [
    "# Load life expectancy data and print out a few lines\n",
    "life_exp = pd.read_csv('indicator_life_expectancy_at_birth.csv', encoding='mac_roman')\n",
    "life_exp.head()"
   ]
  },
  {
   "cell_type": "code",
   "execution_count": 3,
   "metadata": {},
   "outputs": [
    {
     "name": "stdout",
     "output_type": "stream",
     "text": [
      "<class 'pandas.core.frame.DataFrame'>\n",
      "RangeIndex: 999 entries, 0 to 998\n",
      "Columns: 218 entries, Life expectancy to 2016\n",
      "dtypes: float64(217), object(1)\n",
      "memory usage: 1.7+ MB\n"
     ]
    }
   ],
   "source": [
    "# Assess the life expectancy data\n",
    "life_exp.info()"
   ]
  },
  {
   "cell_type": "markdown",
   "metadata": {},
   "source": [
    "The life expectancy DataFrame is in wide format but I want it in long format for ease of comparing multiple indicators against east other. The presence of 999 entries indicates that completely blank rows were read during data import. Additionally, I can see from printing the first few lines of the DataFrame that certain countries have missing data. I will drop all rows containing any null values, including countries which may have partial data, for consistency of analysis when calculating global averages over time. I will also check for and remove any duplicated rows. I will then reshape the DataFrame into long format. "
   ]
  },
  {
   "cell_type": "code",
   "execution_count": 4,
   "metadata": {},
   "outputs": [
    {
     "data": {
      "text/plain": [
       "0"
      ]
     },
     "execution_count": 4,
     "metadata": {},
     "output_type": "execute_result"
    }
   ],
   "source": [
    "# Drop rows that contain missing values and determine if there are duplicate entries \n",
    "life_exp.dropna(axis=0, how='any', inplace=True)\n",
    "sum(life_exp.duplicated())"
   ]
  },
  {
   "cell_type": "code",
   "execution_count": 5,
   "metadata": {},
   "outputs": [
    {
     "name": "stdout",
     "output_type": "stream",
     "text": [
      "<class 'pandas.core.frame.DataFrame'>\n",
      "Int64Index: 201 entries, 1 to 259\n",
      "Columns: 218 entries, Life expectancy to 2016\n",
      "dtypes: float64(217), object(1)\n",
      "memory usage: 343.9+ KB\n"
     ]
    }
   ],
   "source": [
    "# Get table info after dropping missing values \n",
    "life_exp.info()"
   ]
  },
  {
   "cell_type": "code",
   "execution_count": 6,
   "metadata": {},
   "outputs": [
    {
     "data": {
      "text/html": [
       "<div>\n",
       "<style>\n",
       "    .dataframe thead tr:only-child th {\n",
       "        text-align: right;\n",
       "    }\n",
       "\n",
       "    .dataframe thead th {\n",
       "        text-align: left;\n",
       "    }\n",
       "\n",
       "    .dataframe tbody tr th {\n",
       "        vertical-align: top;\n",
       "    }\n",
       "</style>\n",
       "<table border=\"1\" class=\"dataframe\">\n",
       "  <thead>\n",
       "    <tr style=\"text-align: right;\">\n",
       "      <th></th>\n",
       "      <th>country</th>\n",
       "      <th>year</th>\n",
       "      <th>life_expectancy</th>\n",
       "    </tr>\n",
       "  </thead>\n",
       "  <tbody>\n",
       "    <tr>\n",
       "      <th>0</th>\n",
       "      <td>Afghanistan</td>\n",
       "      <td>1800</td>\n",
       "      <td>28.21</td>\n",
       "    </tr>\n",
       "    <tr>\n",
       "      <th>1</th>\n",
       "      <td>Albania</td>\n",
       "      <td>1800</td>\n",
       "      <td>35.40</td>\n",
       "    </tr>\n",
       "    <tr>\n",
       "      <th>2</th>\n",
       "      <td>Algeria</td>\n",
       "      <td>1800</td>\n",
       "      <td>28.82</td>\n",
       "    </tr>\n",
       "    <tr>\n",
       "      <th>3</th>\n",
       "      <td>Angola</td>\n",
       "      <td>1800</td>\n",
       "      <td>26.98</td>\n",
       "    </tr>\n",
       "    <tr>\n",
       "      <th>4</th>\n",
       "      <td>Antigua and Barbuda</td>\n",
       "      <td>1800</td>\n",
       "      <td>33.54</td>\n",
       "    </tr>\n",
       "  </tbody>\n",
       "</table>\n",
       "</div>"
      ],
      "text/plain": [
       "               country  year  life_expectancy\n",
       "0          Afghanistan  1800            28.21\n",
       "1              Albania  1800            35.40\n",
       "2              Algeria  1800            28.82\n",
       "3               Angola  1800            26.98\n",
       "4  Antigua and Barbuda  1800            33.54"
      ]
     },
     "execution_count": 6,
     "metadata": {},
     "output_type": "execute_result"
    }
   ],
   "source": [
    "# Unpivot the DataFrame from wide format to long format and clean up column names\n",
    "life_exp_melt = pd.melt(life_exp, id_vars='Life expectancy', var_name='year', value_name='life_expectancy')\n",
    "life_exp_melt.rename(columns={'Life expectancy':'country'},inplace=True)\n",
    "life_exp_melt.head()"
   ]
  },
  {
   "cell_type": "code",
   "execution_count": 7,
   "metadata": {},
   "outputs": [
    {
     "name": "stdout",
     "output_type": "stream",
     "text": [
      "<class 'pandas.core.frame.DataFrame'>\n",
      "RangeIndex: 43617 entries, 0 to 43616\n",
      "Data columns (total 3 columns):\n",
      "country            43617 non-null object\n",
      "year               43617 non-null object\n",
      "life_expectancy    43617 non-null float64\n",
      "dtypes: float64(1), object(2)\n",
      "memory usage: 1022.4+ KB\n"
     ]
    }
   ],
   "source": [
    "# Get table info after melt operation\n",
    "life_exp_melt.info()"
   ]
  },
  {
   "cell_type": "code",
   "execution_count": 8,
   "metadata": {},
   "outputs": [],
   "source": [
    "# Convert the data type of the \"year\" column from a string to an integer\n",
    "life_exp_melt['year'] = life_exp_melt['year'].astype(int)"
   ]
  },
  {
   "cell_type": "code",
   "execution_count": 9,
   "metadata": {},
   "outputs": [
    {
     "data": {
      "text/html": [
       "<div>\n",
       "<style>\n",
       "    .dataframe thead tr:only-child th {\n",
       "        text-align: right;\n",
       "    }\n",
       "\n",
       "    .dataframe thead th {\n",
       "        text-align: left;\n",
       "    }\n",
       "\n",
       "    .dataframe tbody tr th {\n",
       "        vertical-align: top;\n",
       "    }\n",
       "</style>\n",
       "<table border=\"1\" class=\"dataframe\">\n",
       "  <thead>\n",
       "    <tr style=\"text-align: right;\">\n",
       "      <th></th>\n",
       "      <th>year</th>\n",
       "      <th>life_expectancy</th>\n",
       "    </tr>\n",
       "  </thead>\n",
       "  <tbody>\n",
       "    <tr>\n",
       "      <th>count</th>\n",
       "      <td>43617.000000</td>\n",
       "      <td>43617.000000</td>\n",
       "    </tr>\n",
       "    <tr>\n",
       "      <th>mean</th>\n",
       "      <td>1908.000000</td>\n",
       "      <td>42.486805</td>\n",
       "    </tr>\n",
       "    <tr>\n",
       "      <th>std</th>\n",
       "      <td>62.642557</td>\n",
       "      <td>16.294668</td>\n",
       "    </tr>\n",
       "    <tr>\n",
       "      <th>min</th>\n",
       "      <td>1800.000000</td>\n",
       "      <td>1.000000</td>\n",
       "    </tr>\n",
       "    <tr>\n",
       "      <th>25%</th>\n",
       "      <td>1854.000000</td>\n",
       "      <td>30.800000</td>\n",
       "    </tr>\n",
       "    <tr>\n",
       "      <th>50%</th>\n",
       "      <td>1908.000000</td>\n",
       "      <td>34.900000</td>\n",
       "    </tr>\n",
       "    <tr>\n",
       "      <th>75%</th>\n",
       "      <td>1962.000000</td>\n",
       "      <td>54.700000</td>\n",
       "    </tr>\n",
       "    <tr>\n",
       "      <th>max</th>\n",
       "      <td>2016.000000</td>\n",
       "      <td>83.900000</td>\n",
       "    </tr>\n",
       "  </tbody>\n",
       "</table>\n",
       "</div>"
      ],
      "text/plain": [
       "               year  life_expectancy\n",
       "count  43617.000000     43617.000000\n",
       "mean    1908.000000        42.486805\n",
       "std       62.642557        16.294668\n",
       "min     1800.000000         1.000000\n",
       "25%     1854.000000        30.800000\n",
       "50%     1908.000000        34.900000\n",
       "75%     1962.000000        54.700000\n",
       "max     2016.000000        83.900000"
      ]
     },
     "execution_count": 9,
     "metadata": {},
     "output_type": "execute_result"
    }
   ],
   "source": [
    "# Get descriptive statistics\n",
    "life_exp_melt.describe()"
   ]
  },
  {
   "cell_type": "markdown",
   "metadata": {},
   "source": [
    "The life expectancy DataFrame has been successfully cleaned and melted into long format and is ready for exploratory analysis to follow in the next section."
   ]
  },
  {
   "cell_type": "markdown",
   "metadata": {},
   "source": [
    "### Child Mortality Data Assessment and Cleaning"
   ]
  },
  {
   "cell_type": "code",
   "execution_count": 10,
   "metadata": {},
   "outputs": [
    {
     "data": {
      "text/html": [
       "<div>\n",
       "<style>\n",
       "    .dataframe thead tr:only-child th {\n",
       "        text-align: right;\n",
       "    }\n",
       "\n",
       "    .dataframe thead th {\n",
       "        text-align: left;\n",
       "    }\n",
       "\n",
       "    .dataframe tbody tr th {\n",
       "        vertical-align: top;\n",
       "    }\n",
       "</style>\n",
       "<table border=\"1\" class=\"dataframe\">\n",
       "  <thead>\n",
       "    <tr style=\"text-align: right;\">\n",
       "      <th></th>\n",
       "      <th>Under five mortality</th>\n",
       "      <th>1800</th>\n",
       "      <th>1801</th>\n",
       "      <th>1802</th>\n",
       "      <th>1803</th>\n",
       "      <th>1804</th>\n",
       "      <th>1805</th>\n",
       "      <th>1806</th>\n",
       "      <th>1807</th>\n",
       "      <th>1808</th>\n",
       "      <th>...</th>\n",
       "      <th>Unnamed: 217</th>\n",
       "      <th>Unnamed: 218</th>\n",
       "      <th>Unnamed: 219</th>\n",
       "      <th>Unnamed: 220</th>\n",
       "      <th>Unnamed: 221</th>\n",
       "      <th>Unnamed: 222</th>\n",
       "      <th>Unnamed: 223</th>\n",
       "      <th>Unnamed: 224</th>\n",
       "      <th>Unnamed: 225</th>\n",
       "      <th>Unnamed: 226</th>\n",
       "    </tr>\n",
       "  </thead>\n",
       "  <tbody>\n",
       "    <tr>\n",
       "      <th>0</th>\n",
       "      <td>Abkhazia</td>\n",
       "      <td>NaN</td>\n",
       "      <td>NaN</td>\n",
       "      <td>NaN</td>\n",
       "      <td>NaN</td>\n",
       "      <td>NaN</td>\n",
       "      <td>NaN</td>\n",
       "      <td>NaN</td>\n",
       "      <td>NaN</td>\n",
       "      <td>NaN</td>\n",
       "      <td>...</td>\n",
       "      <td>NaN</td>\n",
       "      <td>NaN</td>\n",
       "      <td>NaN</td>\n",
       "      <td>NaN</td>\n",
       "      <td>NaN</td>\n",
       "      <td>NaN</td>\n",
       "      <td>NaN</td>\n",
       "      <td>NaN</td>\n",
       "      <td>NaN</td>\n",
       "      <td>NaN</td>\n",
       "    </tr>\n",
       "    <tr>\n",
       "      <th>1</th>\n",
       "      <td>Afghanistan</td>\n",
       "      <td>468.58</td>\n",
       "      <td>468.58</td>\n",
       "      <td>468.58</td>\n",
       "      <td>468.58</td>\n",
       "      <td>468.58</td>\n",
       "      <td>468.58</td>\n",
       "      <td>469.98</td>\n",
       "      <td>469.98</td>\n",
       "      <td>469.98</td>\n",
       "      <td>...</td>\n",
       "      <td>NaN</td>\n",
       "      <td>NaN</td>\n",
       "      <td>NaN</td>\n",
       "      <td>NaN</td>\n",
       "      <td>NaN</td>\n",
       "      <td>NaN</td>\n",
       "      <td>NaN</td>\n",
       "      <td>NaN</td>\n",
       "      <td>NaN</td>\n",
       "      <td>NaN</td>\n",
       "    </tr>\n",
       "    <tr>\n",
       "      <th>2</th>\n",
       "      <td>Akrotiri and Dhekelia</td>\n",
       "      <td>NaN</td>\n",
       "      <td>NaN</td>\n",
       "      <td>NaN</td>\n",
       "      <td>NaN</td>\n",
       "      <td>NaN</td>\n",
       "      <td>NaN</td>\n",
       "      <td>NaN</td>\n",
       "      <td>NaN</td>\n",
       "      <td>NaN</td>\n",
       "      <td>...</td>\n",
       "      <td>NaN</td>\n",
       "      <td>NaN</td>\n",
       "      <td>NaN</td>\n",
       "      <td>NaN</td>\n",
       "      <td>NaN</td>\n",
       "      <td>NaN</td>\n",
       "      <td>NaN</td>\n",
       "      <td>NaN</td>\n",
       "      <td>NaN</td>\n",
       "      <td>NaN</td>\n",
       "    </tr>\n",
       "    <tr>\n",
       "      <th>3</th>\n",
       "      <td>Albania</td>\n",
       "      <td>375.20</td>\n",
       "      <td>375.20</td>\n",
       "      <td>375.20</td>\n",
       "      <td>375.20</td>\n",
       "      <td>375.20</td>\n",
       "      <td>375.20</td>\n",
       "      <td>375.20</td>\n",
       "      <td>375.20</td>\n",
       "      <td>375.20</td>\n",
       "      <td>...</td>\n",
       "      <td>NaN</td>\n",
       "      <td>NaN</td>\n",
       "      <td>NaN</td>\n",
       "      <td>NaN</td>\n",
       "      <td>NaN</td>\n",
       "      <td>NaN</td>\n",
       "      <td>NaN</td>\n",
       "      <td>NaN</td>\n",
       "      <td>NaN</td>\n",
       "      <td>NaN</td>\n",
       "    </tr>\n",
       "    <tr>\n",
       "      <th>4</th>\n",
       "      <td>Algeria</td>\n",
       "      <td>460.21</td>\n",
       "      <td>460.21</td>\n",
       "      <td>460.21</td>\n",
       "      <td>460.21</td>\n",
       "      <td>460.21</td>\n",
       "      <td>460.21</td>\n",
       "      <td>460.21</td>\n",
       "      <td>460.21</td>\n",
       "      <td>460.21</td>\n",
       "      <td>...</td>\n",
       "      <td>NaN</td>\n",
       "      <td>NaN</td>\n",
       "      <td>NaN</td>\n",
       "      <td>NaN</td>\n",
       "      <td>NaN</td>\n",
       "      <td>NaN</td>\n",
       "      <td>NaN</td>\n",
       "      <td>NaN</td>\n",
       "      <td>NaN</td>\n",
       "      <td>NaN</td>\n",
       "    </tr>\n",
       "  </tbody>\n",
       "</table>\n",
       "<p>5 rows × 227 columns</p>\n",
       "</div>"
      ],
      "text/plain": [
       "    Under five mortality    1800    1801    1802    1803    1804    1805  \\\n",
       "0               Abkhazia     NaN     NaN     NaN     NaN     NaN     NaN   \n",
       "1            Afghanistan  468.58  468.58  468.58  468.58  468.58  468.58   \n",
       "2  Akrotiri and Dhekelia     NaN     NaN     NaN     NaN     NaN     NaN   \n",
       "3                Albania  375.20  375.20  375.20  375.20  375.20  375.20   \n",
       "4                Algeria  460.21  460.21  460.21  460.21  460.21  460.21   \n",
       "\n",
       "     1806    1807    1808      ...       Unnamed: 217  Unnamed: 218  \\\n",
       "0     NaN     NaN     NaN      ...                NaN           NaN   \n",
       "1  469.98  469.98  469.98      ...                NaN           NaN   \n",
       "2     NaN     NaN     NaN      ...                NaN           NaN   \n",
       "3  375.20  375.20  375.20      ...                NaN           NaN   \n",
       "4  460.21  460.21  460.21      ...                NaN           NaN   \n",
       "\n",
       "   Unnamed: 219  Unnamed: 220  Unnamed: 221  Unnamed: 222  Unnamed: 223  \\\n",
       "0           NaN           NaN           NaN           NaN           NaN   \n",
       "1           NaN           NaN           NaN           NaN           NaN   \n",
       "2           NaN           NaN           NaN           NaN           NaN   \n",
       "3           NaN           NaN           NaN           NaN           NaN   \n",
       "4           NaN           NaN           NaN           NaN           NaN   \n",
       "\n",
       "   Unnamed: 224  Unnamed: 225  Unnamed: 226  \n",
       "0           NaN           NaN           NaN  \n",
       "1           NaN           NaN           NaN  \n",
       "2           NaN           NaN           NaN  \n",
       "3           NaN           NaN           NaN  \n",
       "4           NaN           NaN           NaN  \n",
       "\n",
       "[5 rows x 227 columns]"
      ]
     },
     "execution_count": 10,
     "metadata": {},
     "output_type": "execute_result"
    }
   ],
   "source": [
    "# Load child mortality data and print out a few lines. \n",
    "child_mort = pd.read_csv('indicator_gapminder_under5mortality.csv', encoding='mac_roman')\n",
    "child_mort.head()"
   ]
  },
  {
   "cell_type": "code",
   "execution_count": 11,
   "metadata": {},
   "outputs": [
    {
     "name": "stdout",
     "output_type": "stream",
     "text": [
      "<class 'pandas.core.frame.DataFrame'>\n",
      "RangeIndex: 999 entries, 0 to 998\n",
      "Columns: 227 entries, Under five mortality to Unnamed: 226\n",
      "dtypes: float64(226), object(1)\n",
      "memory usage: 1.7+ MB\n"
     ]
    }
   ],
   "source": [
    "# Assess the child mortality data\n",
    "child_mort.info()"
   ]
  },
  {
   "cell_type": "markdown",
   "metadata": {},
   "source": [
    "The child mortality DataFrame is also in wide format but I want it in long format for ease of comparing multiple indicators against east other. The presence of 999 entries indicates that completely blank rows were read during data import. Additionally, at least the last column is \"Unnamed,\" indicating that one or more blank columns were read as well. I will first drop any null columns."
   ]
  },
  {
   "cell_type": "code",
   "execution_count": 12,
   "metadata": {},
   "outputs": [
    {
     "name": "stdout",
     "output_type": "stream",
     "text": [
      "<class 'pandas.core.frame.DataFrame'>\n",
      "RangeIndex: 999 entries, 0 to 998\n",
      "Columns: 217 entries, Under five mortality to 2015\n",
      "dtypes: float64(216), object(1)\n",
      "memory usage: 1.7+ MB\n"
     ]
    }
   ],
   "source": [
    "# Drop columns that are completely missing values \n",
    "child_mort.dropna(axis=1, how='all', inplace=True)\n",
    "child_mort.info()"
   ]
  },
  {
   "cell_type": "markdown",
   "metadata": {},
   "source": [
    "After dropping fully null columns, I can see that each country has at most 216 entries. I will drop all rows containing any null values, including countries which may have partial data, for consistency of analysis when calculating global averages over time. I will also check for and remove any duplicated rows. I will then reshape the DataFrame into long format."
   ]
  },
  {
   "cell_type": "code",
   "execution_count": 13,
   "metadata": {},
   "outputs": [
    {
     "data": {
      "text/plain": [
       "0"
      ]
     },
     "execution_count": 13,
     "metadata": {},
     "output_type": "execute_result"
    }
   ],
   "source": [
    "# Drop rows that contain missing values and determine if there are duplicate entries \n",
    "child_mort.dropna(axis=0, how='any', inplace=True)\n",
    "sum(child_mort.duplicated())"
   ]
  },
  {
   "cell_type": "code",
   "execution_count": 14,
   "metadata": {},
   "outputs": [
    {
     "name": "stdout",
     "output_type": "stream",
     "text": [
      "<class 'pandas.core.frame.DataFrame'>\n",
      "Int64Index: 184 entries, 1 to 259\n",
      "Columns: 217 entries, Under five mortality to 2015\n",
      "dtypes: float64(216), object(1)\n",
      "memory usage: 313.4+ KB\n"
     ]
    }
   ],
   "source": [
    "# Get table info after dropping missing values \n",
    "child_mort.info()"
   ]
  },
  {
   "cell_type": "code",
   "execution_count": 15,
   "metadata": {},
   "outputs": [
    {
     "data": {
      "text/html": [
       "<div>\n",
       "<style>\n",
       "    .dataframe thead tr:only-child th {\n",
       "        text-align: right;\n",
       "    }\n",
       "\n",
       "    .dataframe thead th {\n",
       "        text-align: left;\n",
       "    }\n",
       "\n",
       "    .dataframe tbody tr th {\n",
       "        vertical-align: top;\n",
       "    }\n",
       "</style>\n",
       "<table border=\"1\" class=\"dataframe\">\n",
       "  <thead>\n",
       "    <tr style=\"text-align: right;\">\n",
       "      <th></th>\n",
       "      <th>country</th>\n",
       "      <th>year</th>\n",
       "      <th>under_5_mortality</th>\n",
       "    </tr>\n",
       "  </thead>\n",
       "  <tbody>\n",
       "    <tr>\n",
       "      <th>0</th>\n",
       "      <td>Afghanistan</td>\n",
       "      <td>1800</td>\n",
       "      <td>468.58</td>\n",
       "    </tr>\n",
       "    <tr>\n",
       "      <th>1</th>\n",
       "      <td>Albania</td>\n",
       "      <td>1800</td>\n",
       "      <td>375.20</td>\n",
       "    </tr>\n",
       "    <tr>\n",
       "      <th>2</th>\n",
       "      <td>Algeria</td>\n",
       "      <td>1800</td>\n",
       "      <td>460.21</td>\n",
       "    </tr>\n",
       "    <tr>\n",
       "      <th>3</th>\n",
       "      <td>Angola</td>\n",
       "      <td>1800</td>\n",
       "      <td>485.68</td>\n",
       "    </tr>\n",
       "    <tr>\n",
       "      <th>4</th>\n",
       "      <td>Antigua and Barbuda</td>\n",
       "      <td>1800</td>\n",
       "      <td>473.60</td>\n",
       "    </tr>\n",
       "  </tbody>\n",
       "</table>\n",
       "</div>"
      ],
      "text/plain": [
       "               country  year  under_5_mortality\n",
       "0          Afghanistan  1800             468.58\n",
       "1              Albania  1800             375.20\n",
       "2              Algeria  1800             460.21\n",
       "3               Angola  1800             485.68\n",
       "4  Antigua and Barbuda  1800             473.60"
      ]
     },
     "execution_count": 15,
     "metadata": {},
     "output_type": "execute_result"
    }
   ],
   "source": [
    "# Unpivot the DataFrame from wide format to long format and clean up column names. \n",
    "child_mort_melt = pd.melt(child_mort, id_vars='Under five mortality', var_name='year', value_name='under_5_mortality')\n",
    "child_mort_melt.rename(columns={'Under five mortality':'country'},inplace=True)\n",
    "child_mort_melt.head()"
   ]
  },
  {
   "cell_type": "code",
   "execution_count": 16,
   "metadata": {},
   "outputs": [
    {
     "name": "stdout",
     "output_type": "stream",
     "text": [
      "<class 'pandas.core.frame.DataFrame'>\n",
      "RangeIndex: 39744 entries, 0 to 39743\n",
      "Data columns (total 3 columns):\n",
      "country              39744 non-null object\n",
      "year                 39744 non-null object\n",
      "under_5_mortality    39744 non-null float64\n",
      "dtypes: float64(1), object(2)\n",
      "memory usage: 931.6+ KB\n"
     ]
    }
   ],
   "source": [
    "# Get table info after melt operation \n",
    "child_mort_melt.info()"
   ]
  },
  {
   "cell_type": "code",
   "execution_count": 17,
   "metadata": {
    "collapsed": true
   },
   "outputs": [],
   "source": [
    "# Convert the data type of the \"year\" column from a string to an integer\n",
    "child_mort_melt['year'] = child_mort_melt['year'].astype(int)"
   ]
  },
  {
   "cell_type": "code",
   "execution_count": 18,
   "metadata": {},
   "outputs": [
    {
     "data": {
      "text/html": [
       "<div>\n",
       "<style>\n",
       "    .dataframe thead tr:only-child th {\n",
       "        text-align: right;\n",
       "    }\n",
       "\n",
       "    .dataframe thead th {\n",
       "        text-align: left;\n",
       "    }\n",
       "\n",
       "    .dataframe tbody tr th {\n",
       "        vertical-align: top;\n",
       "    }\n",
       "</style>\n",
       "<table border=\"1\" class=\"dataframe\">\n",
       "  <thead>\n",
       "    <tr style=\"text-align: right;\">\n",
       "      <th></th>\n",
       "      <th>year</th>\n",
       "      <th>under_5_mortality</th>\n",
       "    </tr>\n",
       "  </thead>\n",
       "  <tbody>\n",
       "    <tr>\n",
       "      <th>count</th>\n",
       "      <td>39744.000000</td>\n",
       "      <td>39744.000000</td>\n",
       "    </tr>\n",
       "    <tr>\n",
       "      <th>mean</th>\n",
       "      <td>1907.500000</td>\n",
       "      <td>294.882021</td>\n",
       "    </tr>\n",
       "    <tr>\n",
       "      <th>std</th>\n",
       "      <td>62.353945</td>\n",
       "      <td>159.414853</td>\n",
       "    </tr>\n",
       "    <tr>\n",
       "      <th>min</th>\n",
       "      <td>1800.000000</td>\n",
       "      <td>1.900000</td>\n",
       "    </tr>\n",
       "    <tr>\n",
       "      <th>25%</th>\n",
       "      <td>1853.750000</td>\n",
       "      <td>149.467500</td>\n",
       "    </tr>\n",
       "    <tr>\n",
       "      <th>50%</th>\n",
       "      <td>1907.500000</td>\n",
       "      <td>360.970000</td>\n",
       "    </tr>\n",
       "    <tr>\n",
       "      <th>75%</th>\n",
       "      <td>1961.250000</td>\n",
       "      <td>421.025000</td>\n",
       "    </tr>\n",
       "    <tr>\n",
       "      <th>max</th>\n",
       "      <td>2015.000000</td>\n",
       "      <td>756.290000</td>\n",
       "    </tr>\n",
       "  </tbody>\n",
       "</table>\n",
       "</div>"
      ],
      "text/plain": [
       "               year  under_5_mortality\n",
       "count  39744.000000       39744.000000\n",
       "mean    1907.500000         294.882021\n",
       "std       62.353945         159.414853\n",
       "min     1800.000000           1.900000\n",
       "25%     1853.750000         149.467500\n",
       "50%     1907.500000         360.970000\n",
       "75%     1961.250000         421.025000\n",
       "max     2015.000000         756.290000"
      ]
     },
     "execution_count": 18,
     "metadata": {},
     "output_type": "execute_result"
    }
   ],
   "source": [
    "# Get descriptive statistics \n",
    "child_mort_melt.describe()"
   ]
  },
  {
   "cell_type": "markdown",
   "metadata": {},
   "source": [
    "The child mortality DataFrame has been successfully cleaned and melted into long format and is ready for exploratory analysis to follow in the next section."
   ]
  },
  {
   "cell_type": "markdown",
   "metadata": {},
   "source": [
    "### Per Capital Total Health Spending Data Assessment and Cleaning "
   ]
  },
  {
   "cell_type": "code",
   "execution_count": 19,
   "metadata": {},
   "outputs": [
    {
     "data": {
      "text/html": [
       "<div>\n",
       "<style>\n",
       "    .dataframe thead tr:only-child th {\n",
       "        text-align: right;\n",
       "    }\n",
       "\n",
       "    .dataframe thead th {\n",
       "        text-align: left;\n",
       "    }\n",
       "\n",
       "    .dataframe tbody tr th {\n",
       "        vertical-align: top;\n",
       "    }\n",
       "</style>\n",
       "<table border=\"1\" class=\"dataframe\">\n",
       "  <thead>\n",
       "    <tr style=\"text-align: right;\">\n",
       "      <th></th>\n",
       "      <th>Per capita total expenditure on health at average exchange rate (US$)</th>\n",
       "      <th>1995</th>\n",
       "      <th>1996</th>\n",
       "      <th>1997</th>\n",
       "      <th>1998</th>\n",
       "      <th>1999</th>\n",
       "      <th>2000</th>\n",
       "      <th>2001</th>\n",
       "      <th>2002</th>\n",
       "      <th>2003</th>\n",
       "      <th>2004</th>\n",
       "      <th>2005</th>\n",
       "      <th>2006</th>\n",
       "      <th>2007</th>\n",
       "      <th>2008</th>\n",
       "      <th>2009</th>\n",
       "      <th>2010</th>\n",
       "    </tr>\n",
       "  </thead>\n",
       "  <tbody>\n",
       "    <tr>\n",
       "      <th>0</th>\n",
       "      <td>Abkhazia</td>\n",
       "      <td>NaN</td>\n",
       "      <td>NaN</td>\n",
       "      <td>NaN</td>\n",
       "      <td>NaN</td>\n",
       "      <td>NaN</td>\n",
       "      <td>NaN</td>\n",
       "      <td>NaN</td>\n",
       "      <td>NaN</td>\n",
       "      <td>NaN</td>\n",
       "      <td>NaN</td>\n",
       "      <td>NaN</td>\n",
       "      <td>NaN</td>\n",
       "      <td>NaN</td>\n",
       "      <td>NaN</td>\n",
       "      <td>NaN</td>\n",
       "      <td>NaN</td>\n",
       "    </tr>\n",
       "    <tr>\n",
       "      <th>1</th>\n",
       "      <td>Afghanistan</td>\n",
       "      <td>NaN</td>\n",
       "      <td>NaN</td>\n",
       "      <td>NaN</td>\n",
       "      <td>NaN</td>\n",
       "      <td>NaN</td>\n",
       "      <td>NaN</td>\n",
       "      <td>NaN</td>\n",
       "      <td>14.818293</td>\n",
       "      <td>18.312764</td>\n",
       "      <td>20.665594</td>\n",
       "      <td>21.859666</td>\n",
       "      <td>23.820132</td>\n",
       "      <td>28.808767</td>\n",
       "      <td>31.809727</td>\n",
       "      <td>33.710308</td>\n",
       "      <td>37.666786</td>\n",
       "    </tr>\n",
       "    <tr>\n",
       "      <th>2</th>\n",
       "      <td>Akrotiri and Dhekelia</td>\n",
       "      <td>NaN</td>\n",
       "      <td>NaN</td>\n",
       "      <td>NaN</td>\n",
       "      <td>NaN</td>\n",
       "      <td>NaN</td>\n",
       "      <td>NaN</td>\n",
       "      <td>NaN</td>\n",
       "      <td>NaN</td>\n",
       "      <td>NaN</td>\n",
       "      <td>NaN</td>\n",
       "      <td>NaN</td>\n",
       "      <td>NaN</td>\n",
       "      <td>NaN</td>\n",
       "      <td>NaN</td>\n",
       "      <td>NaN</td>\n",
       "      <td>NaN</td>\n",
       "    </tr>\n",
       "    <tr>\n",
       "      <th>3</th>\n",
       "      <td>Albania</td>\n",
       "      <td>27.910805</td>\n",
       "      <td>43.045818</td>\n",
       "      <td>36.135184</td>\n",
       "      <td>47.102142</td>\n",
       "      <td>65.024024</td>\n",
       "      <td>75.236623</td>\n",
       "      <td>79.862222</td>\n",
       "      <td>90.264318</td>\n",
       "      <td>113.005324</td>\n",
       "      <td>160.909881</td>\n",
       "      <td>177.633315</td>\n",
       "      <td>191.779729</td>\n",
       "      <td>232.180439</td>\n",
       "      <td>275.142520</td>\n",
       "      <td>259.582585</td>\n",
       "      <td>240.824785</td>\n",
       "    </tr>\n",
       "    <tr>\n",
       "      <th>4</th>\n",
       "      <td>Algeria</td>\n",
       "      <td>62.055538</td>\n",
       "      <td>61.769883</td>\n",
       "      <td>66.893742</td>\n",
       "      <td>65.983195</td>\n",
       "      <td>62.521470</td>\n",
       "      <td>62.607389</td>\n",
       "      <td>67.814013</td>\n",
       "      <td>69.924657</td>\n",
       "      <td>79.623436</td>\n",
       "      <td>88.985323</td>\n",
       "      <td>96.149135</td>\n",
       "      <td>109.845806</td>\n",
       "      <td>140.850971</td>\n",
       "      <td>185.848233</td>\n",
       "      <td>180.544271</td>\n",
       "      <td>178.245066</td>\n",
       "    </tr>\n",
       "  </tbody>\n",
       "</table>\n",
       "</div>"
      ],
      "text/plain": [
       "  Per capita total expenditure on health at average exchange rate (US$)  \\\n",
       "0                                           Abkhazia                      \n",
       "1                                        Afghanistan                      \n",
       "2                              Akrotiri and Dhekelia                      \n",
       "3                                            Albania                      \n",
       "4                                            Algeria                      \n",
       "\n",
       "        1995       1996       1997       1998       1999       2000  \\\n",
       "0        NaN        NaN        NaN        NaN        NaN        NaN   \n",
       "1        NaN        NaN        NaN        NaN        NaN        NaN   \n",
       "2        NaN        NaN        NaN        NaN        NaN        NaN   \n",
       "3  27.910805  43.045818  36.135184  47.102142  65.024024  75.236623   \n",
       "4  62.055538  61.769883  66.893742  65.983195  62.521470  62.607389   \n",
       "\n",
       "        2001       2002        2003        2004        2005        2006  \\\n",
       "0        NaN        NaN         NaN         NaN         NaN         NaN   \n",
       "1        NaN  14.818293   18.312764   20.665594   21.859666   23.820132   \n",
       "2        NaN        NaN         NaN         NaN         NaN         NaN   \n",
       "3  79.862222  90.264318  113.005324  160.909881  177.633315  191.779729   \n",
       "4  67.814013  69.924657   79.623436   88.985323   96.149135  109.845806   \n",
       "\n",
       "         2007        2008        2009        2010  \n",
       "0         NaN         NaN         NaN         NaN  \n",
       "1   28.808767   31.809727   33.710308   37.666786  \n",
       "2         NaN         NaN         NaN         NaN  \n",
       "3  232.180439  275.142520  259.582585  240.824785  \n",
       "4  140.850971  185.848233  180.544271  178.245066  "
      ]
     },
     "execution_count": 19,
     "metadata": {},
     "output_type": "execute_result"
    }
   ],
   "source": [
    "# Load per capita total health spending data and print out a few lines. \n",
    "health_spend = pd.read_csv('indicator_health_spending_per_person_USD.csv', encoding='mac_roman')\n",
    "health_spend.head()"
   ]
  },
  {
   "cell_type": "code",
   "execution_count": 20,
   "metadata": {},
   "outputs": [
    {
     "name": "stdout",
     "output_type": "stream",
     "text": [
      "<class 'pandas.core.frame.DataFrame'>\n",
      "RangeIndex: 262 entries, 0 to 261\n",
      "Data columns (total 17 columns):\n",
      "Per capita total expenditure on health at average exchange rate (US$)    262 non-null object\n",
      "1995                                                                     187 non-null float64\n",
      "1996                                                                     188 non-null float64\n",
      "1997                                                                     188 non-null float64\n",
      "1998                                                                     189 non-null float64\n",
      "1999                                                                     189 non-null float64\n",
      "2000                                                                     189 non-null float64\n",
      "2001                                                                     189 non-null float64\n",
      "2002                                                                     188 non-null float64\n",
      "2003                                                                     188 non-null float64\n",
      "2004                                                                     188 non-null float64\n",
      "2005                                                                     188 non-null float64\n",
      "2006                                                                     188 non-null float64\n",
      "2007                                                                     188 non-null float64\n",
      "2008                                                                     188 non-null float64\n",
      "2009                                                                     188 non-null float64\n",
      "2010                                                                     185 non-null float64\n",
      "dtypes: float64(16), object(1)\n",
      "memory usage: 34.9+ KB\n"
     ]
    }
   ],
   "source": [
    "# Assess the total health spending data\n",
    "health_spend.info()"
   ]
  },
  {
   "cell_type": "markdown",
   "metadata": {},
   "source": [
    "The per capita total health spending DataFrame is also in wide format but I want it in long format for ease of comparing multiple indicators against east other. Similar to the handling of the previous two DataFrames, I would like to keep countries that have partial data. I will drop all rows containing any null values, including countries which may have partial data, for consistency of analysis when calculating global averages over time. I will also check for and remove any duplicated rows. I will then reshape the DataFrame into long format. "
   ]
  },
  {
   "cell_type": "code",
   "execution_count": 21,
   "metadata": {},
   "outputs": [
    {
     "data": {
      "text/plain": [
       "0"
      ]
     },
     "execution_count": 21,
     "metadata": {},
     "output_type": "execute_result"
    }
   ],
   "source": [
    "# Drop rows that contain missing values and determine if there are duplicate entries \n",
    "health_spend.dropna(axis=0, how='any', inplace=True)\n",
    "sum(health_spend.duplicated())"
   ]
  },
  {
   "cell_type": "code",
   "execution_count": 22,
   "metadata": {},
   "outputs": [
    {
     "name": "stdout",
     "output_type": "stream",
     "text": [
      "<class 'pandas.core.frame.DataFrame'>\n",
      "Int64Index: 182 entries, 3 to 256\n",
      "Data columns (total 17 columns):\n",
      "Per capita total expenditure on health at average exchange rate (US$)    182 non-null object\n",
      "1995                                                                     182 non-null float64\n",
      "1996                                                                     182 non-null float64\n",
      "1997                                                                     182 non-null float64\n",
      "1998                                                                     182 non-null float64\n",
      "1999                                                                     182 non-null float64\n",
      "2000                                                                     182 non-null float64\n",
      "2001                                                                     182 non-null float64\n",
      "2002                                                                     182 non-null float64\n",
      "2003                                                                     182 non-null float64\n",
      "2004                                                                     182 non-null float64\n",
      "2005                                                                     182 non-null float64\n",
      "2006                                                                     182 non-null float64\n",
      "2007                                                                     182 non-null float64\n",
      "2008                                                                     182 non-null float64\n",
      "2009                                                                     182 non-null float64\n",
      "2010                                                                     182 non-null float64\n",
      "dtypes: float64(16), object(1)\n",
      "memory usage: 25.6+ KB\n"
     ]
    }
   ],
   "source": [
    "# Get table info after dropping missing values \n",
    "health_spend.info()"
   ]
  },
  {
   "cell_type": "code",
   "execution_count": 23,
   "metadata": {},
   "outputs": [
    {
     "data": {
      "text/html": [
       "<div>\n",
       "<style>\n",
       "    .dataframe thead tr:only-child th {\n",
       "        text-align: right;\n",
       "    }\n",
       "\n",
       "    .dataframe thead th {\n",
       "        text-align: left;\n",
       "    }\n",
       "\n",
       "    .dataframe tbody tr th {\n",
       "        vertical-align: top;\n",
       "    }\n",
       "</style>\n",
       "<table border=\"1\" class=\"dataframe\">\n",
       "  <thead>\n",
       "    <tr style=\"text-align: right;\">\n",
       "      <th></th>\n",
       "      <th>country</th>\n",
       "      <th>year</th>\n",
       "      <th>per_capita_health_spend</th>\n",
       "    </tr>\n",
       "  </thead>\n",
       "  <tbody>\n",
       "    <tr>\n",
       "      <th>0</th>\n",
       "      <td>Albania</td>\n",
       "      <td>1995</td>\n",
       "      <td>27.910805</td>\n",
       "    </tr>\n",
       "    <tr>\n",
       "      <th>1</th>\n",
       "      <td>Algeria</td>\n",
       "      <td>1995</td>\n",
       "      <td>62.055538</td>\n",
       "    </tr>\n",
       "    <tr>\n",
       "      <th>2</th>\n",
       "      <td>Andorra</td>\n",
       "      <td>1995</td>\n",
       "      <td>1392.178253</td>\n",
       "    </tr>\n",
       "    <tr>\n",
       "      <th>3</th>\n",
       "      <td>Angola</td>\n",
       "      <td>1995</td>\n",
       "      <td>15.568388</td>\n",
       "    </tr>\n",
       "    <tr>\n",
       "      <th>4</th>\n",
       "      <td>Antigua and Barbuda</td>\n",
       "      <td>1995</td>\n",
       "      <td>350.719298</td>\n",
       "    </tr>\n",
       "  </tbody>\n",
       "</table>\n",
       "</div>"
      ],
      "text/plain": [
       "               country  year  per_capita_health_spend\n",
       "0              Albania  1995                27.910805\n",
       "1              Algeria  1995                62.055538\n",
       "2              Andorra  1995              1392.178253\n",
       "3               Angola  1995                15.568388\n",
       "4  Antigua and Barbuda  1995               350.719298"
      ]
     },
     "execution_count": 23,
     "metadata": {},
     "output_type": "execute_result"
    }
   ],
   "source": [
    "# Unpivot the DataFrame from wide format to long format and clean up column names. \n",
    "health_spend_melt = pd.melt(health_spend, id_vars='Per capita total expenditure on health at average exchange rate (US$)', var_name='year', value_name='per_capita_health_spend')\n",
    "health_spend_melt.rename(columns={'Per capita total expenditure on health at average exchange rate (US$)':'country'},inplace=True)\n",
    "health_spend_melt.head()"
   ]
  },
  {
   "cell_type": "code",
   "execution_count": 24,
   "metadata": {},
   "outputs": [
    {
     "name": "stdout",
     "output_type": "stream",
     "text": [
      "<class 'pandas.core.frame.DataFrame'>\n",
      "RangeIndex: 2912 entries, 0 to 2911\n",
      "Data columns (total 3 columns):\n",
      "country                    2912 non-null object\n",
      "year                       2912 non-null object\n",
      "per_capita_health_spend    2912 non-null float64\n",
      "dtypes: float64(1), object(2)\n",
      "memory usage: 68.3+ KB\n"
     ]
    }
   ],
   "source": [
    "# Get table info after melt operation \n",
    "health_spend_melt.info()"
   ]
  },
  {
   "cell_type": "code",
   "execution_count": 25,
   "metadata": {
    "collapsed": true
   },
   "outputs": [],
   "source": [
    "# Convert the data type of the \"year\" column from a string to an integer\n",
    "health_spend_melt['year'] = health_spend_melt['year'].astype(int)"
   ]
  },
  {
   "cell_type": "code",
   "execution_count": 26,
   "metadata": {},
   "outputs": [
    {
     "data": {
      "text/html": [
       "<div>\n",
       "<style>\n",
       "    .dataframe thead tr:only-child th {\n",
       "        text-align: right;\n",
       "    }\n",
       "\n",
       "    .dataframe thead th {\n",
       "        text-align: left;\n",
       "    }\n",
       "\n",
       "    .dataframe tbody tr th {\n",
       "        vertical-align: top;\n",
       "    }\n",
       "</style>\n",
       "<table border=\"1\" class=\"dataframe\">\n",
       "  <thead>\n",
       "    <tr style=\"text-align: right;\">\n",
       "      <th></th>\n",
       "      <th>year</th>\n",
       "      <th>per_capita_health_spend</th>\n",
       "    </tr>\n",
       "  </thead>\n",
       "  <tbody>\n",
       "    <tr>\n",
       "      <th>count</th>\n",
       "      <td>2912.000000</td>\n",
       "      <td>2912.000000</td>\n",
       "    </tr>\n",
       "    <tr>\n",
       "      <th>mean</th>\n",
       "      <td>2002.500000</td>\n",
       "      <td>671.547608</td>\n",
       "    </tr>\n",
       "    <tr>\n",
       "      <th>std</th>\n",
       "      <td>4.610564</td>\n",
       "      <td>1236.394318</td>\n",
       "    </tr>\n",
       "    <tr>\n",
       "      <th>min</th>\n",
       "      <td>1995.000000</td>\n",
       "      <td>2.015870</td>\n",
       "    </tr>\n",
       "    <tr>\n",
       "      <th>25%</th>\n",
       "      <td>1998.750000</td>\n",
       "      <td>41.411829</td>\n",
       "    </tr>\n",
       "    <tr>\n",
       "      <th>50%</th>\n",
       "      <td>2002.500000</td>\n",
       "      <td>165.311349</td>\n",
       "    </tr>\n",
       "    <tr>\n",
       "      <th>75%</th>\n",
       "      <td>2006.250000</td>\n",
       "      <td>591.480094</td>\n",
       "    </tr>\n",
       "    <tr>\n",
       "      <th>max</th>\n",
       "      <td>2010.000000</td>\n",
       "      <td>8361.732117</td>\n",
       "    </tr>\n",
       "  </tbody>\n",
       "</table>\n",
       "</div>"
      ],
      "text/plain": [
       "              year  per_capita_health_spend\n",
       "count  2912.000000              2912.000000\n",
       "mean   2002.500000               671.547608\n",
       "std       4.610564              1236.394318\n",
       "min    1995.000000                 2.015870\n",
       "25%    1998.750000                41.411829\n",
       "50%    2002.500000               165.311349\n",
       "75%    2006.250000               591.480094\n",
       "max    2010.000000              8361.732117"
      ]
     },
     "execution_count": 26,
     "metadata": {},
     "output_type": "execute_result"
    }
   ],
   "source": [
    "# Get descriptive statistics \n",
    "health_spend_melt.describe()"
   ]
  },
  {
   "cell_type": "markdown",
   "metadata": {},
   "source": [
    "The per capital health spending DataFrame has been successfully cleaned and melted into long format and is ready for exploratory analysis to follow in the next section. I have refrained from joining these DataFrames at this point in the analysis so as to maintain the integrity of each dataset for first performing independent analysis.  "
   ]
  },
  {
   "cell_type": "markdown",
   "metadata": {},
   "source": [
    "<a id='eda'></a>\n",
    "## Exploratory Data Analysis\n",
    "\n",
    "In this section, I will create visualizations and compute descriptive statistics to explore the cleaned data and answer the questions I posed in the Introduction. \n",
    "\n",
    "### Life Expectancy Over Time Globally and in the U.S."
   ]
  },
  {
   "cell_type": "code",
   "execution_count": 27,
   "metadata": {},
   "outputs": [],
   "source": [
    "# Calculate the global mean life expectancy each year \n",
    "avg_life_exp = life_exp_melt.groupby('year')['life_expectancy'].mean()"
   ]
  },
  {
   "cell_type": "code",
   "execution_count": 28,
   "metadata": {
    "collapsed": true
   },
   "outputs": [],
   "source": [
    "# Extract the mean life expectancy each year in the United States\n",
    "us_avg_life_exp = life_exp_melt.query('country == \"United States\"').groupby('year')['life_expectancy'].mean()"
   ]
  },
  {
   "cell_type": "code",
   "execution_count": 29,
   "metadata": {
    "scrolled": true
   },
   "outputs": [
    {
     "data": {
      "image/png": "[encoded data removed]",
      "text/plain": [
       "<matplotlib.figure.Figure at 0x1a121cf5f8>"
      ]
     },
     "metadata": {},
     "output_type": "display_data"
    }
   ],
   "source": [
    "# Plot the average life expectancy each year globally and in the United States \n",
    "fig, ax = plt.subplots(figsize=(6,6));\n",
    "fig1 = ax.plot(avg_life_exp.index, avg_life_exp, 'b', label='Global')\n",
    "fig2 = ax.plot(us_avg_life_exp.index, us_avg_life_exp, 'grey', label='United States')\n",
    "plt.xlabel('Year', fontsize = 14);\n",
    "plt.ylabel('Life Expectancy at Birth (Years)', fontsize = 14);\n",
    "plt.title('Average Life Expectancy', fontsize = 16);\n",
    "plt.tick_params(labelsize = 12);\n",
    "plt.legend()\n",
    "plt.show()"
   ]
  },
  {
   "cell_type": "code",
   "execution_count": 30,
   "metadata": {},
   "outputs": [
    {
     "data": {
      "image/png": "[encoded data removed]",
      "text/plain": [
       "<matplotlib.figure.Figure at 0x10978d518>"
      ]
     },
     "metadata": {},
     "output_type": "display_data"
    }
   ],
   "source": [
    "# Extract the life expectancy from the year 2016 and plot it as a histogram \n",
    "life_exp_2016 = life_exp_melt.query('year == 2016')\n",
    "plt.figure(figsize=(6,6))\n",
    "plt.hist(life_exp_2016['life_expectancy']);\n",
    "plt.xlabel('Life Expectancy at Birth (Years)', fontsize = 14);\n",
    "plt.ylabel('Frequency', fontsize = 14);\n",
    "plt.title('Global Life Expectancy in 2016', fontsize = 16);\n",
    "plt.tick_params(labelsize = 12)\n",
    "plt.show()"
   ]
  },
  {
   "cell_type": "code",
   "execution_count": 31,
   "metadata": {},
   "outputs": [
    {
     "data": {
      "text/plain": [
       "count    201.000000\n",
       "mean      72.428507\n",
       "std        7.776782\n",
       "min       48.860000\n",
       "25%       67.100000\n",
       "50%       74.500000\n",
       "75%       78.600000\n",
       "max       83.900000\n",
       "Name: life_expectancy, dtype: float64"
      ]
     },
     "execution_count": 31,
     "metadata": {},
     "output_type": "execute_result"
    }
   ],
   "source": [
    "# Determine descriptive statistics about the life expectancy data in 2016 \n",
    "life_exp_2016['life_expectancy'].describe()"
   ]
  },
  {
   "cell_type": "code",
   "execution_count": 32,
   "metadata": {},
   "outputs": [
    {
     "data": {
      "text/html": [
       "<div>\n",
       "<style>\n",
       "    .dataframe thead tr:only-child th {\n",
       "        text-align: right;\n",
       "    }\n",
       "\n",
       "    .dataframe thead th {\n",
       "        text-align: left;\n",
       "    }\n",
       "\n",
       "    .dataframe tbody tr th {\n",
       "        vertical-align: top;\n",
       "    }\n",
       "</style>\n",
       "<table border=\"1\" class=\"dataframe\">\n",
       "  <thead>\n",
       "    <tr style=\"text-align: right;\">\n",
       "      <th></th>\n",
       "      <th>country</th>\n",
       "      <th>year</th>\n",
       "      <th>life_expectancy</th>\n",
       "    </tr>\n",
       "  </thead>\n",
       "  <tbody>\n",
       "    <tr>\n",
       "      <th>43604</th>\n",
       "      <td>United States</td>\n",
       "      <td>2016</td>\n",
       "      <td>79.1</td>\n",
       "    </tr>\n",
       "  </tbody>\n",
       "</table>\n",
       "</div>"
      ],
      "text/plain": [
       "             country  year  life_expectancy\n",
       "43604  United States  2016             79.1"
      ]
     },
     "execution_count": 32,
     "metadata": {},
     "output_type": "execute_result"
    }
   ],
   "source": [
    "# Determine the life expectancy in the United States in 2016 \n",
    "life_exp_2016.query('country == \"United States\"')"
   ]
  },
  {
   "cell_type": "code",
   "execution_count": 33,
   "metadata": {},
   "outputs": [
    {
     "data": {
      "text/plain": [
       "country            Hong Kong, China\n",
       "year                           2016\n",
       "life_expectancy                83.9\n",
       "Name: 43493, dtype: object"
      ]
     },
     "execution_count": 33,
     "metadata": {},
     "output_type": "execute_result"
    }
   ],
   "source": [
    "# Determine the country with the highest life expectancy in 2016 \n",
    "life_exp_2016.loc[life_exp_2016['life_expectancy'].idxmax()]"
   ]
  },
  {
   "cell_type": "code",
   "execution_count": 34,
   "metadata": {},
   "outputs": [
    {
     "data": {
      "text/plain": [
       "country            Lesotho\n",
       "year                  2016\n",
       "life_expectancy      48.86\n",
       "Name: 43516, dtype: object"
      ]
     },
     "execution_count": 34,
     "metadata": {},
     "output_type": "execute_result"
    }
   ],
   "source": [
    "# Determine the country with the highest life expectancy in 2016 \n",
    "life_exp_2016.loc[life_exp_2016['life_expectancy'].idxmin()]"
   ]
  },
  {
   "cell_type": "markdown",
   "metadata": {},
   "source": [
    "Since 1800, the average life expectancy has increased by approximately 40 years globally as well as in the United States. Life expectancy in the United States has remained consistently higher than the global average. Life expectancies remained fairly constant for much of the 1800s. In the United States, life expectancies began increasing dramatically beginning around 1870. Globally, the dramatic increase began around 1920. It is interesting to note the years where significant drops in life expectancy was observed. In the United States, these drops correspond to the Civil War, lasting between 1861-1865, and WWI, lasting between 1914 and 1918. Globally, the largest drop also corresponds to WWI, with a smaller drop observed during WWII. \n",
    "\n",
    "The distribution of life expectancy data in 2016 (the year for which the most recent data is available) is left-skewed. The difference between the third quartile and the maximum of the data is only 5.3 years, while the difference between the minimum and the first quartile is 18.2 years. The average life expectancy in the United States is above the third quartile. The country with the highest life expectancy is Hong Kong (China), while the country with the lowest life expectancy is Lesotho. These results suggest that although average global life expectancies have risen dramatically over the last century, there are still countries today where life expectancy remains low. "
   ]
  },
  {
   "cell_type": "markdown",
   "metadata": {},
   "source": [
    "### Child Mortality Rates Over Time Globally and in the U.S."
   ]
  },
  {
   "cell_type": "code",
   "execution_count": 35,
   "metadata": {
    "collapsed": true
   },
   "outputs": [],
   "source": [
    "# Calculate the global mean child mortality rate each year \n",
    "avg_child_mort = child_mort_melt.groupby('year')['under_5_mortality'].mean()"
   ]
  },
  {
   "cell_type": "code",
   "execution_count": 36,
   "metadata": {
    "collapsed": true
   },
   "outputs": [],
   "source": [
    "# Extract the mean child mortality rate each year in the United States\n",
    "us_avg_child_mort = child_mort_melt.query('country == \"United States\"').groupby('year')['under_5_mortality'].mean()"
   ]
  },
  {
   "cell_type": "code",
   "execution_count": 37,
   "metadata": {},
   "outputs": [
    {
     "data": {
      "image/png": "[encoded data removed]",
      "text/plain": [
       "<matplotlib.figure.Figure at 0x1a12688438>"
      ]
     },
     "metadata": {},
     "output_type": "display_data"
    }
   ],
   "source": [
    "# Plot the average child mortality rate each year globally and in the United States \n",
    "fig, ax = plt.subplots(figsize=(6,6));\n",
    "fig1 = ax.plot(avg_child_mort.index, avg_child_mort, 'b', label='Global')\n",
    "fig2 = ax.plot(us_avg_child_mort.index, us_avg_child_mort, 'grey', label='United States')\n",
    "plt.xlabel('Year', fontsize = 14);\n",
    "plt.ylabel('Under 5 Mortality Rate (Per 1,000 Live Births)', fontsize = 14);\n",
    "plt.title('Average Child Mortality Rate', fontsize = 16);\n",
    "plt.tick_params(labelsize = 12);\n",
    "plt.legend()\n",
    "plt.show()"
   ]
  },
  {
   "cell_type": "code",
   "execution_count": 38,
   "metadata": {},
   "outputs": [
    {
     "data": {
      "image/png": "[encoded data removed]",
      "text/plain": [
       "<matplotlib.figure.Figure at 0x1a1220bd30>"
      ]
     },
     "metadata": {},
     "output_type": "display_data"
    }
   ],
   "source": [
    "# Extract the child mortality rate from the year 2015 and plot it as a histogram \n",
    "child_mort_2015 = child_mort_melt.query('year == 2015')\n",
    "plt.figure(figsize=(6,6))\n",
    "plt.hist(child_mort_2015['under_5_mortality']);\n",
    "plt.xlabel('Under 5 Mortality Rate (Per 1,000 Live Births)', fontsize = 14);\n",
    "plt.ylabel('Frequency', fontsize = 14);\n",
    "plt.title('Global Child Mortality Rates in 2015', fontsize = 16);\n",
    "plt.tick_params(labelsize = 12)\n",
    "plt.show()"
   ]
  },
  {
   "cell_type": "code",
   "execution_count": 39,
   "metadata": {},
   "outputs": [
    {
     "data": {
      "text/plain": [
       "count    184.000000\n",
       "mean      32.961413\n",
       "std       33.495984\n",
       "min        1.900000\n",
       "25%        8.050000\n",
       "50%       17.700000\n",
       "75%       49.700000\n",
       "max      156.900000\n",
       "Name: under_5_mortality, dtype: float64"
      ]
     },
     "execution_count": 39,
     "metadata": {},
     "output_type": "execute_result"
    }
   ],
   "source": [
    "# Determine descriptive statistics about the child mortality rate data in 2015\n",
    "child_mort_2015['under_5_mortality'].describe()"
   ]
  },
  {
   "cell_type": "code",
   "execution_count": 40,
   "metadata": {},
   "outputs": [
    {
     "data": {
      "text/html": [
       "<div>\n",
       "<style>\n",
       "    .dataframe thead tr:only-child th {\n",
       "        text-align: right;\n",
       "    }\n",
       "\n",
       "    .dataframe thead th {\n",
       "        text-align: left;\n",
       "    }\n",
       "\n",
       "    .dataframe tbody tr th {\n",
       "        vertical-align: top;\n",
       "    }\n",
       "</style>\n",
       "<table border=\"1\" class=\"dataframe\">\n",
       "  <thead>\n",
       "    <tr style=\"text-align: right;\">\n",
       "      <th></th>\n",
       "      <th>country</th>\n",
       "      <th>year</th>\n",
       "      <th>under_5_mortality</th>\n",
       "    </tr>\n",
       "  </thead>\n",
       "  <tbody>\n",
       "    <tr>\n",
       "      <th>39733</th>\n",
       "      <td>United States</td>\n",
       "      <td>2015</td>\n",
       "      <td>6.5</td>\n",
       "    </tr>\n",
       "  </tbody>\n",
       "</table>\n",
       "</div>"
      ],
      "text/plain": [
       "             country  year  under_5_mortality\n",
       "39733  United States  2015                6.5"
      ]
     },
     "execution_count": 40,
     "metadata": {},
     "output_type": "execute_result"
    }
   ],
   "source": [
    "# Determine the child mortality rate in the United States in 2015\n",
    "child_mort_2015.query('country == \"United States\"')"
   ]
  },
  {
   "cell_type": "code",
   "execution_count": 41,
   "metadata": {},
   "outputs": [
    {
     "data": {
      "text/plain": [
       "country              Luxembourg\n",
       "year                       2015\n",
       "under_5_mortality           1.9\n",
       "Name: 39657, dtype: object"
      ]
     },
     "execution_count": 41,
     "metadata": {},
     "output_type": "execute_result"
    }
   ],
   "source": [
    "# Determine the country with the lowest child mortality rate in 2015\n",
    "child_mort_2015.loc[child_mort_2015['under_5_mortality'].idxmin()]"
   ]
  },
  {
   "cell_type": "code",
   "execution_count": 42,
   "metadata": {},
   "outputs": [
    {
     "data": {
      "text/plain": [
       "country              Angola\n",
       "year                   2015\n",
       "under_5_mortality     156.9\n",
       "Name: 39563, dtype: object"
      ]
     },
     "execution_count": 42,
     "metadata": {},
     "output_type": "execute_result"
    }
   ],
   "source": [
    "# Determine the country with the highest child mortality rate in 2015\n",
    "child_mort_2015.loc[child_mort_2015['under_5_mortality'].idxmax()]"
   ]
  },
  {
   "cell_type": "markdown",
   "metadata": {},
   "source": [
    "Since 1800, the average child mortality rate has decreased by approximately 400 per 1000 live births globally. In the United States, the decrease is approximately 450 per 1000 live births. Child mortality rates in the United States were higher than the global average prior to the late 1840s, but have been consistently lower than the global average since then. Life expectancies remained fairly constant for much of the 1800s. Again, it is interesting to note the years where significant increases in child mortality was observed. In the United States, these increases correspond to the Civil War and WWI, like for life expectancy. Globally, however, there are no observable spikes in child mortality.\n",
    "\n",
    "The distribution of child mortality rate data in 2015 (the year for which the most recent data is available) is right-skewed. The difference between the third quartile and the maximum of the data is 107.2, while the difference between the minimum and the first quartile is only 6.2. The average child mortality rate in the United States is below the first quartile. The country with the lowest child mortality rates is Luxembourg, while the country with the highest child mortality rates is Angola. Similar to for life expectancy results, these results suggest that although average global child mortality rates have declined dramatically over the last century, there are still countries today where child mortality rates remain high. "
   ]
  },
  {
   "cell_type": "markdown",
   "metadata": {},
   "source": [
    "### Per Capita Total Health Spend Over Time Globally and in the U.S."
   ]
  },
  {
   "cell_type": "code",
   "execution_count": 43,
   "metadata": {
    "collapsed": true
   },
   "outputs": [],
   "source": [
    "# Calculate the global mean total health spend each year \n",
    "avg_health_spend = health_spend_melt.groupby('year')['per_capita_health_spend'].mean()"
   ]
  },
  {
   "cell_type": "code",
   "execution_count": 44,
   "metadata": {
    "collapsed": true
   },
   "outputs": [],
   "source": [
    "# Extract the mean total health spend each year in the United States\n",
    "us_avg_health_spend = health_spend_melt.query('country == \"United States\"').groupby('year')['per_capita_health_spend'].mean()"
   ]
  },
  {
   "cell_type": "code",
   "execution_count": 45,
   "metadata": {},
   "outputs": [
    {
     "data": {
      "image/png": "[encoded data removed]",
      "text/plain": [
       "<matplotlib.figure.Figure at 0x10e92fe48>"
      ]
     },
     "metadata": {},
     "output_type": "display_data"
    }
   ],
   "source": [
    "# Plot the average total health spend per person each year globally and in the United States \n",
    "fig, ax = plt.subplots(figsize=(6,6));\n",
    "fig1 = ax.plot(avg_health_spend.index, avg_health_spend, 'b', label='Global')\n",
    "fig2 = ax.plot(us_avg_health_spend.index, us_avg_health_spend, 'grey', label='United States')\n",
    "plt.xlabel('Year', fontsize = 14);\n",
    "plt.ylabel('Per Capita Total Health Spend (USD)', fontsize = 14);\n",
    "plt.title('Average Per Capita Total Health Spend', fontsize = 16);\n",
    "plt.tick_params(labelsize = 12);\n",
    "plt.legend()\n",
    "plt.show()"
   ]
  },
  {
   "cell_type": "code",
   "execution_count": 46,
   "metadata": {},
   "outputs": [
    {
     "data": {
      "image/png": "[encoded data removed]",
      "text/plain": [
       "<matplotlib.figure.Figure at 0x1a1269deb8>"
      ]
     },
     "metadata": {},
     "output_type": "display_data"
    }
   ],
   "source": [
    "# Extract the total health spend data from the year 2010 and plot it as a histogram \n",
    "health_spend_2010 = health_spend_melt.query('year == 2010')\n",
    "health_spend_2010_clean = health_spend_2010.dropna()\n",
    "plt.figure(figsize=(6,6))\n",
    "plt.hist(health_spend_2010_clean['per_capita_health_spend']);\n",
    "plt.xlabel('Per Capita Total Health Spend (USD)', fontsize = 14);\n",
    "plt.ylabel('Frequency', fontsize = 14);\n",
    "plt.title('Global Per Capita Health Spending in 2010', fontsize = 16);\n",
    "plt.tick_params(labelsize = 12)\n",
    "plt.show()"
   ]
  },
  {
   "cell_type": "code",
   "execution_count": 47,
   "metadata": {},
   "outputs": [
    {
     "data": {
      "text/plain": [
       "count     182.000000\n",
       "mean     1050.549501\n",
       "std      1732.613824\n",
       "min        11.903500\n",
       "25%        82.540371\n",
       "50%       344.472748\n",
       "75%       911.881691\n",
       "max      8361.732117\n",
       "Name: per_capita_health_spend, dtype: float64"
      ]
     },
     "execution_count": 47,
     "metadata": {},
     "output_type": "execute_result"
    }
   ],
   "source": [
    "# Determine descriptive statistics about the total health spend data in 2010\n",
    "health_spend_2010['per_capita_health_spend'].describe()"
   ]
  },
  {
   "cell_type": "code",
   "execution_count": 48,
   "metadata": {},
   "outputs": [
    {
     "data": {
      "text/html": [
       "<div>\n",
       "<style>\n",
       "    .dataframe thead tr:only-child th {\n",
       "        text-align: right;\n",
       "    }\n",
       "\n",
       "    .dataframe thead th {\n",
       "        text-align: left;\n",
       "    }\n",
       "\n",
       "    .dataframe tbody tr th {\n",
       "        vertical-align: top;\n",
       "    }\n",
       "</style>\n",
       "<table border=\"1\" class=\"dataframe\">\n",
       "  <thead>\n",
       "    <tr style=\"text-align: right;\">\n",
       "      <th></th>\n",
       "      <th>country</th>\n",
       "      <th>year</th>\n",
       "      <th>per_capita_health_spend</th>\n",
       "    </tr>\n",
       "  </thead>\n",
       "  <tbody>\n",
       "    <tr>\n",
       "      <th>2904</th>\n",
       "      <td>United States</td>\n",
       "      <td>2010</td>\n",
       "      <td>8361.732117</td>\n",
       "    </tr>\n",
       "  </tbody>\n",
       "</table>\n",
       "</div>"
      ],
      "text/plain": [
       "            country  year  per_capita_health_spend\n",
       "2904  United States  2010              8361.732117"
      ]
     },
     "execution_count": 48,
     "metadata": {},
     "output_type": "execute_result"
    }
   ],
   "source": [
    "# Determine the health spend per person in the United States in 2010\n",
    "health_spend_2010.query('country == \"United States\"')"
   ]
  },
  {
   "cell_type": "code",
   "execution_count": 49,
   "metadata": {},
   "outputs": [
    {
     "data": {
      "text/plain": [
       "country                    Eritrea\n",
       "year                          2010\n",
       "per_capita_health_spend    11.9035\n",
       "Name: 2783, dtype: object"
      ]
     },
     "execution_count": 49,
     "metadata": {},
     "output_type": "execute_result"
    }
   ],
   "source": [
    "# Determine the country with the lowest health spend per person in 2010\n",
    "health_spend_2010.loc[health_spend_2010['per_capita_health_spend'].idxmin()]"
   ]
  },
  {
   "cell_type": "code",
   "execution_count": 50,
   "metadata": {},
   "outputs": [
    {
     "data": {
      "text/plain": [
       "country                    United States\n",
       "year                                2010\n",
       "per_capita_health_spend          8361.73\n",
       "Name: 2904, dtype: object"
      ]
     },
     "execution_count": 50,
     "metadata": {},
     "output_type": "execute_result"
    }
   ],
   "source": [
    "# Determine the country with the highest health spend per person in 2010\n",
    "health_spend_2010.loc[health_spend_2010['per_capita_health_spend'].idxmax()]"
   ]
  },
  {
   "cell_type": "markdown",
   "metadata": {},
   "source": [
    "The average global per capital total health spending has approximately doubled over the past 15 years. In that time window, the average per capital total health spending in the United States has been consistently about 8 times greater than the global average. The distribution of per capital total health spending in 2010 is right-skewed. The country with the smallest per capita health spending in 2010 was Eritrea, spending only 11.9 USD per person versus 8361.7 USD per person for the United States"
   ]
  },
  {
   "cell_type": "markdown",
   "metadata": {},
   "source": [
    "### Correlations Between Health Spending, Life Expectancy, and Child Mortality\n",
    "In this section, I will join DataFrames to enable multi-variable analysis. "
   ]
  },
  {
   "cell_type": "code",
   "execution_count": 51,
   "metadata": {},
   "outputs": [
    {
     "data": {
      "text/html": [
       "<div>\n",
       "<style>\n",
       "    .dataframe thead tr:only-child th {\n",
       "        text-align: right;\n",
       "    }\n",
       "\n",
       "    .dataframe thead th {\n",
       "        text-align: left;\n",
       "    }\n",
       "\n",
       "    .dataframe tbody tr th {\n",
       "        vertical-align: top;\n",
       "    }\n",
       "</style>\n",
       "<table border=\"1\" class=\"dataframe\">\n",
       "  <thead>\n",
       "    <tr style=\"text-align: right;\">\n",
       "      <th></th>\n",
       "      <th>country</th>\n",
       "      <th>year</th>\n",
       "      <th>life_expectancy</th>\n",
       "      <th>under_5_mortality</th>\n",
       "    </tr>\n",
       "  </thead>\n",
       "  <tbody>\n",
       "    <tr>\n",
       "      <th>0</th>\n",
       "      <td>Afghanistan</td>\n",
       "      <td>1800</td>\n",
       "      <td>28.21</td>\n",
       "      <td>468.58</td>\n",
       "    </tr>\n",
       "    <tr>\n",
       "      <th>1</th>\n",
       "      <td>Albania</td>\n",
       "      <td>1800</td>\n",
       "      <td>35.40</td>\n",
       "      <td>375.20</td>\n",
       "    </tr>\n",
       "    <tr>\n",
       "      <th>2</th>\n",
       "      <td>Algeria</td>\n",
       "      <td>1800</td>\n",
       "      <td>28.82</td>\n",
       "      <td>460.21</td>\n",
       "    </tr>\n",
       "    <tr>\n",
       "      <th>3</th>\n",
       "      <td>Angola</td>\n",
       "      <td>1800</td>\n",
       "      <td>26.98</td>\n",
       "      <td>485.68</td>\n",
       "    </tr>\n",
       "    <tr>\n",
       "      <th>4</th>\n",
       "      <td>Antigua and Barbuda</td>\n",
       "      <td>1800</td>\n",
       "      <td>33.54</td>\n",
       "      <td>473.60</td>\n",
       "    </tr>\n",
       "  </tbody>\n",
       "</table>\n",
       "</div>"
      ],
      "text/plain": [
       "               country  year  life_expectancy  under_5_mortality\n",
       "0          Afghanistan  1800            28.21             468.58\n",
       "1              Albania  1800            35.40             375.20\n",
       "2              Algeria  1800            28.82             460.21\n",
       "3               Angola  1800            26.98             485.68\n",
       "4  Antigua and Barbuda  1800            33.54             473.60"
      ]
     },
     "execution_count": 51,
     "metadata": {},
     "output_type": "execute_result"
    }
   ],
   "source": [
    "# Inner join life expectancy and child mortality tables on country and year to enable comparison \n",
    "life_exp_child_mort = life_exp_melt.merge(child_mort_melt, how='inner', left_on=['country', 'year'], right_on=['country', 'year'])\n",
    "life_exp_child_mort.head()"
   ]
  },
  {
   "cell_type": "code",
   "execution_count": 52,
   "metadata": {},
   "outputs": [
    {
     "data": {
      "text/plain": [
       "<matplotlib.figure.Figure at 0x1a1a6d1cc0>"
      ]
     },
     "metadata": {},
     "output_type": "display_data"
    },
    {
     "data": {
      "image/png": "[encoded data removed]",
      "text/plain": [
       "<matplotlib.figure.Figure at 0x10ea44f60>"
      ]
     },
     "metadata": {},
     "output_type": "display_data"
    }
   ],
   "source": [
    "# Create a scatter plot of life expectancy vs. child mortality for all countries colored by year \n",
    "plt.figure(figsize=(6,6));\n",
    "sns.lmplot('under_5_mortality', 'life_expectancy', data=life_exp_child_mort, fit_reg=False);\n",
    "plt.xlabel('Under 5 Mortality Rate (Per 1,000 Live Births)', fontsize = 14);\n",
    "plt.ylabel('Life Expectancy (Years)', fontsize = 14);\n",
    "plt.title('Global Life Expectancy Vs. Child Mortality', fontsize = 16);\n",
    "plt.tick_params(labelsize = 12);\n",
    "plt.show();"
   ]
  },
  {
   "cell_type": "markdown",
   "metadata": {},
   "source": [
    "There is an observable negative correlation between life expectancy and child mortality rates, consistent with the dependence of the life expectancy (at birth) calculation on child mortality rates."
   ]
  },
  {
   "cell_type": "code",
   "execution_count": 53,
   "metadata": {},
   "outputs": [
    {
     "data": {
      "text/html": [
       "<div>\n",
       "<style>\n",
       "    .dataframe thead tr:only-child th {\n",
       "        text-align: right;\n",
       "    }\n",
       "\n",
       "    .dataframe thead th {\n",
       "        text-align: left;\n",
       "    }\n",
       "\n",
       "    .dataframe tbody tr th {\n",
       "        vertical-align: top;\n",
       "    }\n",
       "</style>\n",
       "<table border=\"1\" class=\"dataframe\">\n",
       "  <thead>\n",
       "    <tr style=\"text-align: right;\">\n",
       "      <th></th>\n",
       "      <th>country</th>\n",
       "      <th>year</th>\n",
       "      <th>life_expectancy</th>\n",
       "      <th>per_capita_health_spend</th>\n",
       "    </tr>\n",
       "  </thead>\n",
       "  <tbody>\n",
       "    <tr>\n",
       "      <th>0</th>\n",
       "      <td>Albania</td>\n",
       "      <td>1995</td>\n",
       "      <td>73.7</td>\n",
       "      <td>27.910805</td>\n",
       "    </tr>\n",
       "    <tr>\n",
       "      <th>1</th>\n",
       "      <td>Algeria</td>\n",
       "      <td>1995</td>\n",
       "      <td>71.6</td>\n",
       "      <td>62.055538</td>\n",
       "    </tr>\n",
       "    <tr>\n",
       "      <th>2</th>\n",
       "      <td>Angola</td>\n",
       "      <td>1995</td>\n",
       "      <td>50.9</td>\n",
       "      <td>15.568388</td>\n",
       "    </tr>\n",
       "    <tr>\n",
       "      <th>3</th>\n",
       "      <td>Antigua and Barbuda</td>\n",
       "      <td>1995</td>\n",
       "      <td>73.5</td>\n",
       "      <td>350.719298</td>\n",
       "    </tr>\n",
       "    <tr>\n",
       "      <th>4</th>\n",
       "      <td>Argentina</td>\n",
       "      <td>1995</td>\n",
       "      <td>73.5</td>\n",
       "      <td>615.260409</td>\n",
       "    </tr>\n",
       "  </tbody>\n",
       "</table>\n",
       "</div>"
      ],
      "text/plain": [
       "               country  year  life_expectancy  per_capita_health_spend\n",
       "0              Albania  1995             73.7                27.910805\n",
       "1              Algeria  1995             71.6                62.055538\n",
       "2               Angola  1995             50.9                15.568388\n",
       "3  Antigua and Barbuda  1995             73.5               350.719298\n",
       "4            Argentina  1995             73.5               615.260409"
      ]
     },
     "execution_count": 53,
     "metadata": {},
     "output_type": "execute_result"
    }
   ],
   "source": [
    "# Inner join health spend and life expectancy tables on country and year to enable comparison \n",
    "health_spend_life_exp = life_exp_melt.merge(health_spend_melt, how='inner', left_on=['country', 'year'], right_on=['country', 'year'])\n",
    "health_spend_life_exp.head()"
   ]
  },
  {
   "cell_type": "code",
   "execution_count": 54,
   "metadata": {},
   "outputs": [
    {
     "data": {
      "text/plain": [
       "<matplotlib.figure.Figure at 0x1a1a6c1940>"
      ]
     },
     "metadata": {},
     "output_type": "display_data"
    },
    {
     "data": {
      "image/png": "[encoded data removed]",
      "text/plain": [
       "<matplotlib.figure.Figure at 0x1a1a98de10>"
      ]
     },
     "metadata": {},
     "output_type": "display_data"
    }
   ],
   "source": [
    "# Create a scatter plot of health spend vs. life expectancy for all countries colored by year \n",
    "plt.figure(figsize=(6,6));\n",
    "sns.lmplot('life_expectancy', 'per_capita_health_spend', data=health_spend_life_exp, hue='year', fit_reg=False);\n",
    "plt.xlabel('Life Expectancy (Years)', fontsize = 14);\n",
    "plt.ylabel('Per Capita Health Spend (USD)', fontsize = 14);\n",
    "plt.title('Global Health Spending Vs. Life Expectancy', fontsize = 16);\n",
    "plt.tick_params(labelsize = 12);\n",
    "plt.show();"
   ]
  },
  {
   "cell_type": "markdown",
   "metadata": {},
   "source": [
    "Plotting per capita health spending versus life expectancy shows an interesting result. All countries with low life expectancy (less than 70 years) also have low per capita health spending. However, countries with high life expectancy (greater than 70 years) have a wide distribution of per capita health spending. Some countries with very high life expectancies spend no more on health per capita than countries with very low life expectancies. These results suggest that additional factors have measurable impacts on life expectancy than health spending. Further statistical analysis is required to assess the correlation between per capita health spending and life expectancy. "
   ]
  },
  {
   "cell_type": "code",
   "execution_count": 55,
   "metadata": {},
   "outputs": [
    {
     "data": {
      "text/html": [
       "<div>\n",
       "<style>\n",
       "    .dataframe thead tr:only-child th {\n",
       "        text-align: right;\n",
       "    }\n",
       "\n",
       "    .dataframe thead th {\n",
       "        text-align: left;\n",
       "    }\n",
       "\n",
       "    .dataframe tbody tr th {\n",
       "        vertical-align: top;\n",
       "    }\n",
       "</style>\n",
       "<table border=\"1\" class=\"dataframe\">\n",
       "  <thead>\n",
       "    <tr style=\"text-align: right;\">\n",
       "      <th></th>\n",
       "      <th>country</th>\n",
       "      <th>year</th>\n",
       "      <th>under_5_mortality</th>\n",
       "      <th>per_capita_health_spend</th>\n",
       "    </tr>\n",
       "  </thead>\n",
       "  <tbody>\n",
       "    <tr>\n",
       "      <th>0</th>\n",
       "      <td>Albania</td>\n",
       "      <td>1995</td>\n",
       "      <td>33.2</td>\n",
       "      <td>27.910805</td>\n",
       "    </tr>\n",
       "    <tr>\n",
       "      <th>1</th>\n",
       "      <td>Algeria</td>\n",
       "      <td>1995</td>\n",
       "      <td>42.6</td>\n",
       "      <td>62.055538</td>\n",
       "    </tr>\n",
       "    <tr>\n",
       "      <th>2</th>\n",
       "      <td>Angola</td>\n",
       "      <td>1995</td>\n",
       "      <td>224.8</td>\n",
       "      <td>15.568388</td>\n",
       "    </tr>\n",
       "    <tr>\n",
       "      <th>3</th>\n",
       "      <td>Antigua and Barbuda</td>\n",
       "      <td>1995</td>\n",
       "      <td>19.7</td>\n",
       "      <td>350.719298</td>\n",
       "    </tr>\n",
       "    <tr>\n",
       "      <th>4</th>\n",
       "      <td>Argentina</td>\n",
       "      <td>1995</td>\n",
       "      <td>23.4</td>\n",
       "      <td>615.260409</td>\n",
       "    </tr>\n",
       "  </tbody>\n",
       "</table>\n",
       "</div>"
      ],
      "text/plain": [
       "               country  year  under_5_mortality  per_capita_health_spend\n",
       "0              Albania  1995               33.2                27.910805\n",
       "1              Algeria  1995               42.6                62.055538\n",
       "2               Angola  1995              224.8                15.568388\n",
       "3  Antigua and Barbuda  1995               19.7               350.719298\n",
       "4            Argentina  1995               23.4               615.260409"
      ]
     },
     "execution_count": 55,
     "metadata": {},
     "output_type": "execute_result"
    }
   ],
   "source": [
    "# Inner join health spend and child mortality tables on country and year to enable comparison \n",
    "health_spend_child_mort = child_mort_melt.merge(health_spend_melt, how='inner', left_on=['country', 'year'], right_on=['country', 'year'])\n",
    "health_spend_child_mort.head()"
   ]
  },
  {
   "cell_type": "code",
   "execution_count": 56,
   "metadata": {},
   "outputs": [
    {
     "data": {
      "text/plain": [
       "<matplotlib.figure.Figure at 0x1a1a6e0860>"
      ]
     },
     "metadata": {},
     "output_type": "display_data"
    },
    {
     "data": {
      "image/png": "[encoded data removed]",
      "text/plain": [
       "<matplotlib.figure.Figure at 0x1a1a9a8f28>"
      ]
     },
     "metadata": {},
     "output_type": "display_data"
    }
   ],
   "source": [
    "# Create a scatter plot of health spend vs. child mortality for all countries colored by year \n",
    "plt.figure(figsize=(6,6));\n",
    "sns.lmplot('under_5_mortality', 'per_capita_health_spend', data=health_spend_child_mort, hue='year', fit_reg=False);\n",
    "plt.xlabel('Under 5 Mortality Rate (Per 1,000 Live Births)', fontsize = 14);\n",
    "plt.ylabel('Per Capita Health Spend (USD)', fontsize = 14);\n",
    "plt.title('Global Health Spending Vs. Child Mortality', fontsize = 16);\n",
    "plt.tick_params(labelsize = 12);\n",
    "plt.show();"
   ]
  },
  {
   "cell_type": "markdown",
   "metadata": {},
   "source": [
    "Plotting per capita total health spending versus child mortality shows a similar result as for life expectancy above. All countries with high child mortality rates (greater than 30 deaths per 1000 live births) also have low per capita health spending. However, countries with low child mortality rates (less than 30 deaths per 1000 live births) have a wide distribution of per capita health spending. Some countries with very low child mortality rates spend no more on health per capita than countries with very high child mortality rates. These results suggest that additional factors have measurable impacts on child mortality rates than health spending. Further statistical analysis is required to assess the correlation between per capita health spending and child mortality. "
   ]
  },
  {
   "cell_type": "markdown",
   "metadata": {},
   "source": [
    "<a id='conclusions'></a>\n",
    "## Conclusions\n",
    "\n",
    "In this project, I explored data on life expectancy, child mortality, and per capital health spending from <a href=https://www.gapminder.org/data/>Gapminder World</a>. After assessing and cleaning the data for analysis, I performed exploratory data analysis by creating visuals and calculating descriptive statistics to answer some interesting questions about population health outcomes around the world and how they have changed over time. \n",
    "\n",
    "The overall findings from my exploratory data analysis show that life expectancies have risen dramatically over the last 100 years while child mortality rates have dramatically declined. Since life expectancy (calculated at birth) is strongly dependent on child mortality rates, it is consistent that there is a negative correlation between the two variables. For both indicators, the United States performs better than the global average, sitting above the third quartile for life expectancy and below the first quartile for child mortality. However, despite global progress, there are still countries today where low life expectancies and high child mortality rates are observed. Further, my exploratory data analysis suggests that per capita total health spending does not directly correlate with life expectancies or child mortality rates, as there are an abundance of countries with low per capital health spending and good survival outcomes. Follow-up statistical analysis is required to shed additional light on the correlation of per capita health spending and population survival outcomes.  \n",
    "\n",
    "This analysis revealed interesting insights on population health data around the world. While this analysis only focused on three indicators, there is a diverse array of indicators that have measurable impacts on population health. In conclusion, I think this analysis brings up a couple of interesting questions, including how best to improve health outcomes in countries with poor life expectancies today and how best to improve health outcomes while lowering healthcare spending. "
   ]
  }
 ],
 "metadata": {
  "kernelspec": {
   "display_name": "Python [default]",
   "language": "python",
   "name": "python3"
  },
  "language_info": {
   "codemirror_mode": {
    "name": "ipython",
    "version": 3
   },
   "file_extension": ".py",
   "mimetype": "text/x-python",
   "name": "python",
   "nbconvert_exporter": "python",
   "pygments_lexer": "ipython3",
   "version": "3.6.3"
  }
 },
 "nbformat": 4,
 "nbformat_minor": 2
}
